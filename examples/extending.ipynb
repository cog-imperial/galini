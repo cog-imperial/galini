{
 "cells": [
  {
   "cell_type": "markdown",
   "source": [
    "# Extending GALINI\n",
    "\n",
    "This Jupyter notebook shows how to extending GALINI using Python."
   ],
   "metadata": {}
  },
  {
   "cell_type": "markdown",
   "source": [
    "## Internal model representation\n",
    "\n",
    "GALINI uses Pyomo to represent models internally. GALINI supports models where common subexpressions are grouped together to form a _connected model_. You can create a connected model using [SUSPECT](https://github.com/cog-imperial/suspect).\n",
    "\n",
    "Connected models can help find better bounds when performing feasibility based bounds tightening (FBBT) and optimization based bounds tightening (OBBT) and can also help finding better convexity information."
   ],
   "metadata": {}
  },
  {
   "cell_type": "code",
   "execution_count": 2,
   "source": [
    "import pyomo.environ as pe\n",
    "\n",
    "def create_example_model():\n",
    "    \"\"\"Create a simple nonlinear model that will be used in the notebook.\"\"\"\n",
    "    m = pe.ConcreteModel()\n",
    "\n",
    "    # Add (bounded) continuous variables\n",
    "    m.y = pe.Var(bounds=(0, 2.0))\n",
    "    m.z = pe.Var(bounds=(0, 3.0))\n",
    "\n",
    "    # Add linear objective\n",
    "    m.cost = pe.Objective(expr=m.y + m.z)\n",
    "\n",
    "    # Add nonlinear constraints\n",
    "    m.sq = pe.Constraint(expr=m.y**2 <= 0.6)\n",
    "    m.bi = pe.Constraint(expr=m.y * m.z <= 1.5)\n",
    "    m.bi_lb = pe.Constraint(expr=m.y * m.z >= 1.0)\n",
    "\n",
    "    return m"
   ],
   "outputs": [],
   "metadata": {}
  },
  {
   "cell_type": "code",
   "execution_count": 3,
   "source": [
    "# Create and print model\n",
    "model = create_example_model()\n",
    "model.pprint()"
   ],
   "outputs": [
    {
     "output_type": "stream",
     "name": "stdout",
     "text": [
      "2 Var Declarations\n",
      "    y : Size=1, Index=None\n",
      "        Key  : Lower : Value : Upper : Fixed : Stale : Domain\n",
      "        None :     0 :  None :   2.0 : False :  True :  Reals\n",
      "    z : Size=1, Index=None\n",
      "        Key  : Lower : Value : Upper : Fixed : Stale : Domain\n",
      "        None :     0 :  None :   3.0 : False :  True :  Reals\n",
      "\n",
      "1 Objective Declarations\n",
      "    cost : Size=1, Index=None, Active=True\n",
      "        Key  : Active : Sense    : Expression\n",
      "        None :   True : minimize : y + z\n",
      "\n",
      "3 Constraint Declarations\n",
      "    bi : Size=1, Index=None, Active=True\n",
      "        Key  : Lower : Body : Upper : Active\n",
      "        None :  -Inf :  y*z :   1.5 :   True\n",
      "    bi_lb : Size=1, Index=None, Active=True\n",
      "        Key  : Lower : Body : Upper : Active\n",
      "        None :   1.0 :  y*z :  +Inf :   True\n",
      "    sq : Size=1, Index=None, Active=True\n",
      "        Key  : Lower : Body : Upper : Active\n",
      "        None :  -Inf : y**2 :   0.6 :   True\n",
      "\n",
      "6 Declarations: y z cost sq bi bi_lb\n"
     ]
    }
   ],
   "metadata": {}
  },
  {
   "cell_type": "markdown",
   "source": [
    "The connected model looks exactly the same as the original model, but the expression `x*y` is shared between the constraints `bi` and `bi_lb`."
   ],
   "metadata": {}
  },
  {
   "cell_type": "code",
   "execution_count": 6,
   "source": [
    "from suspect.pyomo import create_connected_model\n",
    "\n",
    "connected_model, _ = create_connected_model(model)\n",
    "\n",
    "connected_model.pprint()"
   ],
   "outputs": [
    {
     "output_type": "stream",
     "name": "stdout",
     "text": [
      "2 Var Declarations\n",
      "    y : Size=1, Index=None\n",
      "        Key  : Lower : Value : Upper : Fixed : Stale : Domain\n",
      "        None :     0 :  None :   2.0 : False :  True :  Reals\n",
      "    z : Size=1, Index=None\n",
      "        Key  : Lower : Value : Upper : Fixed : Stale : Domain\n",
      "        None :     0 :  None :   3.0 : False :  True :  Reals\n",
      "\n",
      "1 Objective Declarations\n",
      "    cost : Size=1, Index=None, Active=True\n",
      "        Key  : Active : Sense    : Expression\n",
      "        None :   True : minimize : y + z\n",
      "\n",
      "3 Constraint Declarations\n",
      "    bi : Size=1, Index=None, Active=True\n",
      "        Key  : Lower : Body : Upper : Active\n",
      "        None :  -Inf :  y*z :   1.5 :   True\n",
      "    bi_lb : Size=1, Index=None, Active=True\n",
      "        Key  : Lower : Body : Upper : Active\n",
      "        None :   1.0 :  y*z :  +Inf :   True\n",
      "    sq : Size=1, Index=None, Active=True\n",
      "        Key  : Lower : Body   : Upper : Active\n",
      "        None :  -Inf : y**2.0 :   0.6 :   True\n",
      "\n",
      "6 Declarations: y z cost sq bi bi_lb\n"
     ]
    }
   ],
   "metadata": {}
  },
  {
   "cell_type": "markdown",
   "source": [
    "## Building Relaxations\n",
    "\n",
    "GALINI uses [Coramin](https://github.com/coramin/coramin) to compute relaxations of Pyomo models. Coramin works by replacing nonlinear expressions with auxiliary variables and using Pyomo blocks to create dynamic under and over estimators of the nonlinear expressions."
   ],
   "metadata": {}
  },
  {
   "cell_type": "markdown",
   "source": [
    "#### Coramin Relaxation Block\n",
    "\n",
    "In this example we show how to create a McCormick envelope of the expression $w=xy$.\n"
   ],
   "metadata": {}
  },
  {
   "cell_type": "code",
   "execution_count": 7,
   "source": [
    "from coramin.relaxations.mccormick import PWMcCormickRelaxation\n",
    "\n",
    "relax_example = pe.ConcreteModel()\n",
    "relax_example.w = pe.Var()\n",
    "relax_example.x = pe.Var(bounds=(-1, 1))\n",
    "relax_example.y = pe.Var(bounds=(-2, 2))\n",
    "relax_example.mccormick = PWMcCormickRelaxation()\n",
    "relax_example.mccormick.set_input(\n",
    "    x1=relax_example.x,\n",
    "    x2=relax_example.y,\n",
    "    aux_var=relax_example.w\n",
    ")\n",
    "relax_example.mccormick.rebuild()\n",
    "relax_example.mccormick.pprint(verbose=True)"
   ],
   "outputs": [
    {
     "output_type": "stream",
     "name": "stdout",
     "text": [
      "mccormick: Relaxation for w == x*y\n",
      "  mccormick : Size=1, Index=None, Active=True\n",
      "      1 Set Declarations\n",
      "          relaxation_index : Size=1, Index=None, Ordered=Insertion\n",
      "              Key  : Dimen : Domain : Size : Members\n",
      "              None :     1 :    Any :    4 : {1, 2, 3, 4}\n",
      "\n",
      "      1 Constraint Declarations\n",
      "          relaxation : Size=4, Index=mccormick.relaxation_index, Active=True\n",
      "              Key : Lower : Body              : Upper : Active\n",
      "                1 :  -Inf : - y - 2*x - 2 - w :   0.0 :   True\n",
      "                2 :  -Inf :   y + 2*x - 2 - w :   0.0 :   True\n",
      "                3 :  -Inf : w - (y - 2*x + 2) :   0.0 :   True\n",
      "                4 :  -Inf : w - (2*x - y + 2) :   0.0 :   True\n",
      "\n",
      "      2 Declarations: relaxation_index relaxation\n"
     ]
    }
   ],
   "metadata": {}
  },
  {
   "cell_type": "markdown",
   "source": [
    "##### How to create a new relaxation"
   ],
   "metadata": {}
  },
  {
   "cell_type": "markdown",
   "source": [
    "## Branching Strategy"
   ],
   "metadata": {}
  },
  {
   "cell_type": "markdown",
   "source": [
    "## Node Selection Strategy"
   ],
   "metadata": {}
  },
  {
   "cell_type": "markdown",
   "source": [
    "## Cut Generators"
   ],
   "metadata": {}
  },
  {
   "cell_type": "markdown",
   "source": [
    "## Branch and Bound Algorithm"
   ],
   "metadata": {}
  }
 ],
 "metadata": {
  "orig_nbformat": 4,
  "language_info": {
   "name": "python",
   "version": "3.8.0",
   "mimetype": "text/x-python",
   "codemirror_mode": {
    "name": "ipython",
    "version": 3
   },
   "pygments_lexer": "ipython3",
   "nbconvert_exporter": "python",
   "file_extension": ".py"
  },
  "kernelspec": {
   "name": "python3",
   "display_name": "Python 3.8.0 64-bit ('galini': conda)"
  },
  "interpreter": {
   "hash": "bde56dd05762c91385255d9614f04b4847fbd732dbb47a9e6eaa9d6cb3055b56"
  }
 },
 "nbformat": 4,
 "nbformat_minor": 2
}